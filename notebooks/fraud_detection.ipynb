{
 "cells": [
  {
   "cell_type": "markdown",
   "metadata": {},
   "source": ["# Fraud Detection Notebook - Day 1"]
  },
  {
   "cell_type": "code",
   "execution_count": null,
   "metadata": {},
   "outputs": [],
   "source": [
    "import pandas as pd\n",
    "import numpy as np\n",
    "import matplotlib.pyplot as plt\n",
    "from sklearn.datasets import make_classification\n",
    "from sklearn.ensemble import RandomForestClassifier\n",
    "from sklearn.metrics import classification_report, confusion_matrix, ConfusionMatrixDisplay\n",
    "from sklearn.model_selection import train_test_split\n",
    "\n",
    "# ---- Generate Synthetic Data ----\n",
    "X, y = make_classification(n_samples=2000, n_features=6,\n",
    "                           n_classes=2, weights=[0.95, 0.05],\n",
    "                           random_state=42)\n",
    "\n",
    "columns = [\"amount\", \"time\", \"location_id\", \"merchant_id\", \"device_id\", \"user_id\"]\n",
    "df = pd.DataFrame(X, columns=columns)\n",
    "df[\"is_fraud\"] = y\n",
    "df.to_csv(\"../data/transactions.csv\", index=False)\n",
    "print(\"✅ Synthetic dataset saved to data/transactions.csv\")\n",
    "\n",
    "# ---- Train/Test Split ----\n",
    "X_train, X_test, y_train, y_test = train_test_split(df.drop(\"is_fraud\", axis=1),\n",
    "                                                    df[\"is_fraud\"],\n",
    "                                                    test_size=0.2,\n",
    "                                                    random_state=42)\n",
    "\n",
    "# ---- Model Training ----\n",
    "model = RandomForestClassifier(n_estimators=100, random_state=42)\n",
    "model.fit(X_train, y_train)\n",
    "\n",
    "# ---- Evaluation ----\n",
    "y_pred = model.predict(X_test)\n",
    "print(classification_report(y_test, y_pred))\n",
    "\n",
    "cm = confusion_matrix(y_test, y_pred)\n",
    "disp = ConfusionMatrixDisplay(confusion_matrix=cm)\n",
    "disp.plot(cmap=\"Blues\")\n",
    "plt.show()"
   ]
  }
 ],
 "metadata": {
  "kernelspec": {
   "display_name": "Python 3",
   "language": "python",
   "name": "python3"
  },
  "language_info": {
   "name": "python",
   "version": "3.10"
  }
 },
 "nbformat": 4,
 "nbformat_minor": 5
}
